{
 "cells": [
  {
   "cell_type": "code",
   "execution_count": 1,
   "metadata": {},
   "outputs": [
    {
     "name": "stderr",
     "output_type": "stream",
     "text": [
      "2024-07-15 16:55:27.753894: W external/xla/xla/service/gpu/nvptx_compiler.cc:760] The NVIDIA driver's CUDA version is 12.2 which is older than the ptxas CUDA version (12.5.40). Because the driver is older than the ptxas version, XLA is disabling parallel compilation, which may slow down compilation. You should update your NVIDIA driver or use the NVIDIA-provided CUDA forward compatibility packages.\n"
     ]
    }
   ],
   "source": [
    "import netket as nk\n",
    "import numpy as np\n",
    "import jax.numpy as jnp\n",
    "import jax\n",
    "import flax.linen as nn\n",
    "from netket.operator.spin import sigmax,sigmaz,sigmay\n",
    "from netket.graph import Lattice\n",
    "#from scipy.sparse.linalg import eigsh\n",
    "from matplotlib import pyplot as plt\n",
    "import pickle"
   ]
  },
  {
   "cell_type": "code",
   "execution_count": 2,
   "metadata": {},
   "outputs": [],
   "source": [
    "class Jastrow(nn.Module):\n",
    "    @nn.compact\n",
    "    def __call__(self, x):\n",
    "        # sometimes we call this function with a 1D input, sometimes with a 2D.\n",
    "        # We promote all inputs to 2D to make the following code simpler.\n",
    "        x = jnp.atleast_2d(x)\n",
    "        # We vmap along the 0-th axis of the input\n",
    "        # This will automatically convert a function working on vectors to one working\n",
    "        # on matrices.\n",
    "        return jax.vmap(self.evaluate_single, in_axes=(0))(x)\n",
    "        \n",
    "    def evaluate_single(self, x):\n",
    "        # We create the parameter v, which is a vector of length N_sites \n",
    "        v_bias = self.param(\n",
    "            \"visible_bias\", nn.initializers.normal(), (x.shape[-1],), complex\n",
    "        )\n",
    "    \n",
    "        # The Jastrow matrix is a N_sites x N_sites complex-valued matrix\n",
    "        J = self.param(\n",
    "            \"kernel\", nn.initializers.normal(), (x.shape[-1],x.shape[-1]), complex\n",
    "        )\n",
    "        \n",
    "        # In python @ symbolises matrix multiplication\n",
    "        return x.T@J@x + jnp.dot(x, v_bias)"
   ]
  },
  {
   "cell_type": "code",
   "execution_count": 3,
   "metadata": {},
   "outputs": [],
   "source": [
    "def H_compass(K, del_k, delta, del_delta, h, hi, g):\n",
    "    hamiltonian = nk.operator.LocalOperator(hi, dtype=\"complex\")\n",
    "    x_b, z_b = list(set(g.edges(filter_color=1))), g.edges(filter_color=0)\n",
    "    if len(x_b) != len(z_b):\n",
    "        for site in range(g.n_nodes//2):\n",
    "            ix,jx = x_b[site]\n",
    "            iz,jz = z_b[site]\n",
    "            hamiltonian += -K * sigmaz(hi, iz)@sigmaz(hi, jz)\n",
    "            hamiltonian += -delta * sigmay(hi, ix)@sigmay(hi, jx) \n",
    "            hamiltonian += -h * sigmax(hi, site) - del_k * sigmaz(hi, site) - del_delta * sigmay(hi, site)\n",
    "        for site in range(g.n_nodes//2, g.n_nodes):\n",
    "            iz,jz = z_b[site]\n",
    "            hamiltonian += -K * sigmaz(hi, iz)@sigmaz(hi, jz)\n",
    "            hamiltonian += -h * sigmax(hi, site) - del_k * sigmaz(hi, site) - del_delta * sigmay(hi, site)\n",
    "    else:\n",
    "        for site in g.nodes():\n",
    "            ix,jx = x_b[site]\n",
    "            iz,jz = z_b[site]\n",
    "            hamiltonian += -K * sigmaz(hi, iz)@sigmaz(hi, jz)\n",
    "            hamiltonian += -delta * sigmay(hi, ix)@sigmay(hi, jx)\n",
    "            hamiltonian += -h * sigmax(hi, site) - del_k * sigmaz(hi,site) - del_delta * sigmay(hi, site)\n",
    "    return hamiltonian"
   ]
  },
  {
   "cell_type": "code",
   "execution_count": 4,
   "metadata": {},
   "outputs": [],
   "source": [
    "def fss(Lx, Ly, Jz, del_Jz, Jx, del_Jx, hy, grid, train_samples, test_samples, chunk_size, n_iter):\n",
    "    N = Lx*Ly\n",
    "\n",
    "    basis = jnp.array([\n",
    "\n",
    "    [1.0,0.0],\n",
    "\n",
    "    [0.0,1.0],\n",
    "\n",
    "    ])\n",
    "\n",
    "    custom_edges = [\n",
    "\n",
    "        (0, 0, [1.0,0.0], 0),\n",
    "\n",
    "        (0, 0, [0.0,1.0], 1),\n",
    "\n",
    "    ]\n",
    "\n",
    "    g = Lattice(basis_vectors=basis, pbc=True, extent=[Lx,Ly],\n",
    "\n",
    "        custom_edges=custom_edges)\n",
    "\n",
    "    hi = nk.hilbert.Spin(s=1/2, N=g.n_nodes)\n",
    "    m_z = sum([sigmaz(hi,i) for i in g.nodes()])/g.n_nodes\n",
    "    #m_z = sum([sigmaz(hi,i)*sigmaz(hi,j) for (i,j) in g.edges()])/g.n_nodes\n",
    "    #m_z = sum([sigmaz(hi,i)*sigmaz(hi,(i+g.n_nodes//2)%N) for i in range((g.n_nodes)-1)])/g.n_nodes\n",
    "\n",
    "    symmetries = g.translation_group()\n",
    "    #symmetries = g.automorphisms()\n",
    "    #symmetries = g.point_group\n",
    "    #symmetries = g.space_group\n",
    "    feature_dims = (8,8,8,8)\n",
    "    num_layers = 4\n",
    "\n",
    "    \n",
    "    model = Jastrow()\n",
    "    #model = nk.models.GCNN(symmetries=symmetries,features=feature_dims,layers=num_layers, param_dtype=\"complex\")\n",
    "    #model = nk.models.RBMSymm(symmetries=symmetries, alpha=4, param_dtype=\"complex\")\n",
    "    #model = nk.models.ARNNDense(hilbert=hi, layers=num_layers, features=feature_dims, param_dtype=\"complex\")\n",
    "    #model = nk.models.ARNNConv1D(hilbert=hi,  layers=num_layers, features=feature_dims, kernel_size=10, param_dtype=\"complex\")\n",
    "    #model = nk.models.tensor_networks.MPSPeriodic(hilbert=hi, bond_dim=20, param_dtype=\"complex\")\n",
    "\n",
    "    sampler = nk.sampler.MetropolisLocal(hi)\n",
    "    vstate = nk.vqs.MCState(sampler, model, n_samples=train_samples, chunk_size=chunk_size)\n",
    "\n",
    "    # Then we create an optimiser from the standard library.\n",
    "    # You can also use optax.\n",
    "    #optimizer = nk.optimizer.Adam(learning_rate=0.05)\n",
    "    #optimizer = nk.optimizer.Momentum(learning_rate=0.005)\n",
    "    #optimizer = nk.optimizer.AdaGrad(learning_rate=0.05)\n",
    "    #optimizer = nk.optimizer.RmsProp(learning_rate=0.05)\n",
    "    optimizer = nk.optimizer.Sgd(learning_rate=0.05)\n",
    "\n",
    "    holo = True if nk.utils.is_probably_holomorphic(vstate._apply_fun,\n",
    "                                 vstate.parameters,\n",
    "                                 vstate.samples,\n",
    "                                 model_state = vstate.model_state) == True else False\n",
    "\n",
    "    preconditioner = nk.optimizer.SR(diag_shift=0.05, holomorphic = holo)\n",
    "\n",
    "    e_gs = jnp.zeros((grid), dtype='float64')\n",
    "    em_e_gs = jnp.zeros((grid), dtype='float64')\n",
    "    data_m_z = jnp.zeros((grid), dtype='float64')\n",
    "    em_m_z = jnp.zeros((grid), dtype='float64')\n",
    "    for i in range(grid):\n",
    "        hamiltonian =  H_compass(Jz, del_Jz, Jx, del_Jx, hy[i], hi, g)\n",
    "        #if i == 1:\n",
    "        vstate.init_parameters()\n",
    "        vstate.n_samples = train_samples\n",
    "        gs = nk.driver.VMC(hamiltonian, optimizer, variational_state=vstate,preconditioner=preconditioner)\n",
    "\n",
    "        log=nk.logging.RuntimeLog()\n",
    "        gs.run(n_iter=n_iter,out=log)\n",
    "        vstate.n_samples = test_samples\n",
    "        tmp_e_gs = vstate.expect(hamiltonian)\n",
    "        tmp_mz = vstate.expect(m_z)\n",
    "        e_gs = e_gs.at[i].set((tmp_e_gs.mean).real)\n",
    "        em_e_gs = em_e_gs.at[i].set((tmp_e_gs.error_of_mean).real)\n",
    "        data_m_z = data_m_z.at[i].set((tmp_mz.mean).real)\n",
    "        em_m_z = em_m_z.at[i].set((tmp_mz.error_of_mean).real)\n",
    "\n",
    "    return [e_gs, em_e_gs, data_m_z, em_m_z]\n"
   ]
  },
  {
   "cell_type": "code",
   "execution_count": null,
   "metadata": {},
   "outputs": [],
   "source": []
  },
  {
   "cell_type": "code",
   "execution_count": 5,
   "metadata": {},
   "outputs": [],
   "source": [
    "Lx, Ly = 6,2\n",
    "N = Lx*Ly"
   ]
  },
  {
   "cell_type": "code",
   "execution_count": 6,
   "metadata": {},
   "outputs": [],
   "source": [
    "Jz = 1\n",
    "del_Jz = 0.01\n",
    "Jx = 0.01\n",
    "del_Jx = 0.0\n",
    "grid = 10\n",
    "hy = jnp.linspace(0, 2, grid)"
   ]
  },
  {
   "cell_type": "code",
   "execution_count": 7,
   "metadata": {},
   "outputs": [],
   "source": [
    "train_samples, test_samples = 2048, 32768\n",
    "chunk_size = 1024\n",
    "n_iter = 100"
   ]
  },
  {
   "cell_type": "code",
   "execution_count": 8,
   "metadata": {},
   "outputs": [
    {
     "data": {
      "application/vnd.jupyter.widget-view+json": {
       "model_id": "07d40cadef934ef4a1eb8a43ad64b57e",
       "version_major": 2,
       "version_minor": 0
      },
      "text/plain": [
       "  0%|          | 0/100 [00:00<?, ?it/s]"
      ]
     },
     "metadata": {},
     "output_type": "display_data"
    },
    {
     "name": "stderr",
     "output_type": "stream",
     "text": [
      "/home/araj/anaconda3/lib/python3.11/site-packages/jax/_src/lax/lax.py:2773: ComplexWarning: Casting complex values to real discards the imaginary part\n",
      "  x_bar = _convert_element_type(x_bar, x.aval.dtype, x.aval.weak_type)\n"
     ]
    },
    {
     "data": {
      "application/vnd.jupyter.widget-view+json": {
       "model_id": "88866b32ef9b459e89a47bb8e7bb5f3f",
       "version_major": 2,
       "version_minor": 0
      },
      "text/plain": [
       "  0%|          | 0/100 [00:00<?, ?it/s]"
      ]
     },
     "metadata": {},
     "output_type": "display_data"
    },
    {
     "data": {
      "application/vnd.jupyter.widget-view+json": {
       "model_id": "d79c465f53124fa8a2c2e931107c51ea",
       "version_major": 2,
       "version_minor": 0
      },
      "text/plain": [
       "  0%|          | 0/100 [00:00<?, ?it/s]"
      ]
     },
     "metadata": {},
     "output_type": "display_data"
    },
    {
     "data": {
      "application/vnd.jupyter.widget-view+json": {
       "model_id": "bacf3e9b840e4677811456cb8616680a",
       "version_major": 2,
       "version_minor": 0
      },
      "text/plain": [
       "  0%|          | 0/100 [00:00<?, ?it/s]"
      ]
     },
     "metadata": {},
     "output_type": "display_data"
    },
    {
     "data": {
      "application/vnd.jupyter.widget-view+json": {
       "model_id": "f06103cba94244838057d8cb3a541010",
       "version_major": 2,
       "version_minor": 0
      },
      "text/plain": [
       "  0%|          | 0/100 [00:00<?, ?it/s]"
      ]
     },
     "metadata": {},
     "output_type": "display_data"
    },
    {
     "data": {
      "application/vnd.jupyter.widget-view+json": {
       "model_id": "6eb29b73ada64c48a0cf2301fdd9a323",
       "version_major": 2,
       "version_minor": 0
      },
      "text/plain": [
       "  0%|          | 0/100 [00:00<?, ?it/s]"
      ]
     },
     "metadata": {},
     "output_type": "display_data"
    },
    {
     "data": {
      "application/vnd.jupyter.widget-view+json": {
       "model_id": "c6ed3efd11964a5ebc425f85ac4b68e1",
       "version_major": 2,
       "version_minor": 0
      },
      "text/plain": [
       "  0%|          | 0/100 [00:00<?, ?it/s]"
      ]
     },
     "metadata": {},
     "output_type": "display_data"
    },
    {
     "data": {
      "application/vnd.jupyter.widget-view+json": {
       "model_id": "9ae3f308b275465a9748ec52982951ad",
       "version_major": 2,
       "version_minor": 0
      },
      "text/plain": [
       "  0%|          | 0/100 [00:00<?, ?it/s]"
      ]
     },
     "metadata": {},
     "output_type": "display_data"
    },
    {
     "data": {
      "application/vnd.jupyter.widget-view+json": {
       "model_id": "03223db0b09a436fab91143f22f31d3a",
       "version_major": 2,
       "version_minor": 0
      },
      "text/plain": [
       "  0%|          | 0/100 [00:00<?, ?it/s]"
      ]
     },
     "metadata": {},
     "output_type": "display_data"
    },
    {
     "data": {
      "application/vnd.jupyter.widget-view+json": {
       "model_id": "5089384e99f34649abe3028459f35f8e",
       "version_major": 2,
       "version_minor": 0
      },
      "text/plain": [
       "  0%|          | 0/100 [00:00<?, ?it/s]"
      ]
     },
     "metadata": {},
     "output_type": "display_data"
    }
   ],
   "source": [
    "e, v_e, m, v_m = fss(Lx, Ly, Jz, del_Jz, Jx, del_Jx, hy, grid, train_samples, test_samples, chunk_size, n_iter)"
   ]
  },
  {
   "cell_type": "code",
   "execution_count": null,
   "metadata": {},
   "outputs": [],
   "source": [
    "e1, v_e1, m1, v_m1 = fss(10, Ly, Jz, del_Jz, Jx, del_Jx, hy, grid, train_samples, test_samples, chunk_size, n_iter)"
   ]
  },
  {
   "cell_type": "code",
   "execution_count": null,
   "metadata": {},
   "outputs": [],
   "source": []
  },
  {
   "cell_type": "code",
   "execution_count": 9,
   "metadata": {},
   "outputs": [
    {
     "data": {
      "text/plain": [
       "Text(0, 0.5, 'E/N')"
      ]
     },
     "execution_count": 9,
     "metadata": {},
     "output_type": "execute_result"
    },
    {
     "data": {
      "image/png": "[encoded data removed]",
      "text/plain": [
       "<Figure size 640x480 with 1 Axes>"
      ]
     },
     "metadata": {},
     "output_type": "display_data"
    }
   ],
   "source": [
    "plt.errorbar(hy, (e)/N, yerr=(v_e)/N)\n",
    "plt.xlabel(\"h\")\n",
    "plt.ylabel(\"E/N\")"
   ]
  },
  {
   "cell_type": "code",
   "execution_count": 10,
   "metadata": {},
   "outputs": [
    {
     "data": {
      "text/plain": [
       "[<matplotlib.lines.Line2D at 0x783c104a29d0>]"
      ]
     },
     "execution_count": 10,
     "metadata": {},
     "output_type": "execute_result"
    },
    {
     "data": {
      "image/png": "[encoded data removed]",
      "text/plain": [
       "<Figure size 640x480 with 1 Axes>"
      ]
     },
     "metadata": {},
     "output_type": "display_data"
    }
   ],
   "source": [
    "plt.plot(hy,-np.gradient(e/N, hy))"
   ]
  },
  {
   "cell_type": "code",
   "execution_count": 11,
   "metadata": {},
   "outputs": [
    {
     "data": {
      "text/plain": [
       "[<matplotlib.lines.Line2D at 0x783c083be290>]"
      ]
     },
     "execution_count": 11,
     "metadata": {},
     "output_type": "execute_result"
    },
    {
     "data": {
      "image/png": "[encoded data removed]",
      "text/plain": [
       "<Figure size 640x480 with 1 Axes>"
      ]
     },
     "metadata": {},
     "output_type": "display_data"
    }
   ],
   "source": [
    "plt.plot(hy,np.gradient(-np.gradient(e/N, hy), hy))\n",
    "#plt.plot(hy,np.gradient(-np.gradient(e1/N, hy), hy))"
   ]
  },
  {
   "cell_type": "code",
   "execution_count": null,
   "metadata": {},
   "outputs": [],
   "source": [
    "plt.plot(hy[2:10], (m[2:10]))\n",
    "#plt.plot(hy, m1)"
   ]
  },
  {
   "cell_type": "code",
   "execution_count": 12,
   "metadata": {},
   "outputs": [
    {
     "data": {
      "text/plain": [
       "Text(0.5, 1.0, 'L=4*2')"
      ]
     },
     "execution_count": 12,
     "metadata": {},
     "output_type": "execute_result"
    },
    {
     "data": {
      "image/png": "[encoded data removed]",
      "text/plain": [
       "<Figure size 640x480 with 1 Axes>"
      ]
     },
     "metadata": {},
     "output_type": "display_data"
    }
   ],
   "source": [
    "plt.errorbar(hy, (m), yerr=v_m)\n",
    "plt.ylabel(r\"$m_z$\")\n",
    "plt.xlabel(\"h\")\n",
    "plt.title(\"L=4*2\")"
   ]
  },
  {
   "cell_type": "code",
   "execution_count": null,
   "metadata": {},
   "outputs": [],
   "source": []
  },
  {
   "cell_type": "code",
   "execution_count": null,
   "metadata": {},
   "outputs": [],
   "source": [
    "plt.plot(jnp.sqrt(v_m))"
   ]
  },
  {
   "cell_type": "code",
   "execution_count": null,
   "metadata": {},
   "outputs": [],
   "source": [
    "plt.plot(hy,-np.gradient(m, hy))"
   ]
  },
  {
   "cell_type": "code",
   "execution_count": null,
   "metadata": {},
   "outputs": [],
   "source": [
    "l = [4, 6, 8, 10]\n",
    "n_l = len(l)"
   ]
  },
  {
   "cell_type": "code",
   "execution_count": null,
   "metadata": {},
   "outputs": [],
   "source": [
    "Jz = 1\n",
    "del_Jz = 0.0\n",
    "grid = 5\n",
    "ygrid = 20\n",
    "Jx = jnp.linspace(0, 1, grid)\n",
    "del_Jx = 0.0\n",
    "hy = jnp.linspace(0, 2, ygrid)"
   ]
  },
  {
   "cell_type": "code",
   "execution_count": null,
   "metadata": {},
   "outputs": [],
   "source": [
    "train_samples, test_samples = 2048, 32768\n",
    "chunk_size = 1024\n",
    "n_iter = 100"
   ]
  },
  {
   "cell_type": "code",
   "execution_count": null,
   "metadata": {},
   "outputs": [],
   "source": [
    "def fss(Lx, Ly, Jz, del_Jz, Jx, del_Jx, hy, grid, train_samples, test_samples, chunk_size, n_iter):\n",
    "    N = Lx*Ly\n",
    "\n",
    "    basis = jnp.array([\n",
    "\n",
    "    [1.0,0.0],\n",
    "\n",
    "    [0.0,1.0],\n",
    "\n",
    "    ])\n",
    "\n",
    "    custom_edges = [\n",
    "\n",
    "        (0, 0, [1.0,0.0], 0),\n",
    "\n",
    "        (0, 0, [0.0,1.0], 1),\n",
    "\n",
    "    ]\n",
    "\n",
    "    g = Lattice(basis_vectors=basis, pbc=True, extent=[Lx,Ly],\n",
    "\n",
    "        custom_edges=custom_edges)\n",
    "\n",
    "    hi = nk.hilbert.Spin(s=1/2, N=g.n_nodes)\n",
    "    #m_z = sum([sigmaz(hi,i) for i in g.nodes()])/g.n_nodes\n",
    "    #m_z = sum([sigmaz(hi,i)*sigmaz(hi,j) for (i,j) in g.edges()])/g.n_nodes\n",
    "    m_z = sum([sigmaz(hi,i)*sigmaz(hi,(i+g.n_nodes//2)%N) for i in range((g.n_nodes)-1)])/g.n_nodes\n",
    "\n",
    "    symmetries = g.translation_group()\n",
    "    #symmetries = g.automorphisms()\n",
    "    #symmetries = g.point_group\n",
    "    #symmetries = g.space_group\n",
    "    feature_dims = (8,8,8,8)\n",
    "    num_layers = 4\n",
    "\n",
    "    \n",
    "\n",
    "    model = nk.models.GCNN(symmetries=symmetries,features=feature_dims,layers=num_layers, param_dtype=\"complex\")\n",
    "    #model = nk.models.RBMSymm(symmetries=symmetries, alpha=4, param_dtype=\"complex\")\n",
    "    #model = nk.models.ARNNDense(hilbert=hi, layers=num_layers, features=feature_dims, param_dtype=\"complex\")\n",
    "    #model = nk.models.ARNNConv1D(hilbert=hi,  layers=num_layers, features=feature_dims, kernel_size=10, param_dtype=\"complex\")\n",
    "    #model = nk.models.tensor_networks.MPSPeriodic(hilbert=hi, bond_dim=20, param_dtype=\"complex\")\n",
    "\n",
    "    sampler = nk.sampler.MetropolisLocal(hi)\n",
    "    vstate = nk.vqs.MCState(sampler, model, n_samples=train_samples, chunk_size=chunk_size)\n",
    "\n",
    "    # Then we create an optimiser from the standard library.\n",
    "    # You can also use optax.\n",
    "    #optimizer = nk.optimizer.Adam(learning_rate=0.05)\n",
    "    #optimizer = nk.optimizer.Momentum(learning_rate=0.005)\n",
    "    #optimizer = nk.optimizer.AdaGrad(learning_rate=0.05)\n",
    "    #optimizer = nk.optimizer.RmsProp(learning_rate=0.05)\n",
    "    optimizer = nk.optimizer.Sgd(learning_rate=0.05)\n",
    "\n",
    "    holo = True if nk.utils.is_probably_holomorphic(vstate._apply_fun,\n",
    "                                 vstate.parameters,\n",
    "                                 vstate.samples,\n",
    "                                 model_state = vstate.model_state) == True else False\n",
    "\n",
    "    preconditioner = nk.optimizer.SR(diag_shift=0.05, holomorphic = holo)\n",
    "\n",
    "    e_gs = jnp.zeros((n_l, grid, ygrid), dtype='float64')\n",
    "    em_e_gs = jnp.zeros((n_l, grid, ygrid), dtype='float64')\n",
    "    data_m_z = jnp.zeros((n_l, grid, ygrid), dtype='float64')\n",
    "    em_m_z = jnp.zeros((n_l, grid, ygrid), dtype='float64')\n",
    "    #e_gs = jnp.zeros((n_l, grid, ygrid))\n",
    "    #m_z = jnp.zeros((n_l, grid, ygrid))\n",
    "    for j in range(grid):\n",
    "        for k in range(ygrid):\n",
    "            hamiltonian =  H_compass(Jz, del_Jz, Jx, del_Jx, hy[i], hi, g)\n",
    "            if i == 1:\n",
    "                vstate.init_parameters()\n",
    "            vstate.n_samples = train_samples\n",
    "            gs = nk.driver.VMC(hamiltonian, optimizer, variational_state=vstate,preconditioner=preconditioner)\n",
    "\n",
    "            log=nk.logging.RuntimeLog()\n",
    "            gs.run(n_iter=n_iter,out=log)\n",
    "            vstate.n_samples = test_samples\n",
    "            tmp_e_gs = vstate.expect(hamiltonian)\n",
    "            tmp_mz = vstate.expect(m_z)\n",
    "            e_gs = e_gs.at[i,j,k].set((tmp_e_gs.mean).real)\n",
    "            em_e_gs = em_e_gs.at[i,j,k].set((tmp_e_gs.error_of_mean).real)\n",
    "            data_m_z = data_m_z.at[i,j,k].set((tmp_mz.mean).real)\n",
    "            em_m_z = em_m_z.at[i,j,k].set((tmp_mz.error_of_mean).real)\n",
    "\n",
    "    return [e_gs, em_e_gs, data_m_z, em_m_z]"
   ]
  },
  {
   "cell_type": "code",
   "execution_count": null,
   "metadata": {},
   "outputs": [],
   "source": [
    "e_gs = jnp.zeros((n_l, grid, ygrid), dtype='float64')\n",
    "em_e_gs = jnp.zeros((n_l, grid, ygrid), dtype='float64')\n",
    "data_m_z = jnp.zeros((n_l, grid, ygrid), dtype='float64')\n",
    "em_m_z = jnp.zeros((n_l, grid, ygrid), dtype='float64')"
   ]
  },
  {
   "cell_type": "code",
   "execution_count": null,
   "metadata": {},
   "outputs": [],
   "source": [
    "for i in range(n_l):\n",
    "    Lx, Ly = l[i],2\n",
    "    N = Lx*Ly\n",
    "    N = Lx*Ly\n",
    "\n",
    "    basis = jnp.array([\n",
    "\n",
    "        [1.0,0.0],\n",
    "\n",
    "        [0.0,1.0],\n",
    "\n",
    "    ])\n",
    "\n",
    "    custom_edges = [\n",
    "\n",
    "        (0, 0, [1.0,0.0], 0),\n",
    "\n",
    "        (0, 0, [0.0,1.0], 1),\n",
    "\n",
    "    ]\n",
    "\n",
    "    g = Lattice(basis_vectors=basis, pbc=True, extent=[Lx,Ly],\n",
    "\n",
    "        custom_edges=custom_edges)\n",
    "\n",
    "    hi = nk.hilbert.Spin(s=1/2, N=g.n_nodes)\n",
    "    #m_z = sum([sigmaz(hi,i) for i in g.nodes()])/g.n_nodes\n",
    "    #m_z = sum([sigmaz(hi,i)*sigmaz(hi,j) for (i,j) in g.edges()])/g.n_nodes\n",
    "    m_z = sum([sigmaz(hi,i)*sigmaz(hi,(i+g.n_nodes//2)%N) for i in range((g.n_nodes)-1)])/g.n_nodes\n",
    "\n",
    "    symmetries = g.translation_group()\n",
    "    #symmetries = g.automorphisms()\n",
    "    #symmetries = g.point_group\n",
    "    #symmetries = g.space_group\n",
    "    feature_dims = (8,8,8,8)\n",
    "    num_layers = 4\n",
    "\n",
    "    \n",
    "\n",
    "    model = nk.models.GCNN(symmetries=symmetries,features=feature_dims,layers=num_layers, param_dtype=\"complex\")\n",
    "    #model = nk.models.RBMSymm(symmetries=symmetries, alpha=4, param_dtype=\"complex\")\n",
    "    #model = nk.models.ARNNDense(hilbert=hi, layers=num_layers, features=feature_dims, param_dtype=\"complex\")\n",
    "    #model = nk.models.ARNNConv1D(hilbert=hi,  layers=num_layers, features=feature_dims, kernel_size=10, param_dtype=\"complex\")\n",
    "    #model = nk.models.tensor_networks.MPSPeriodic(hilbert=hi, bond_dim=20, param_dtype=\"complex\")\n",
    "\n",
    "    sampler = nk.sampler.MetropolisLocal(hi)\n",
    "    vstate = nk.vqs.MCState(sampler, model, n_samples=train_samples, chunk_size=chunk_size)\n",
    "\n",
    "    # Then we create an optimiser from the standard library.\n",
    "    # You can also use optax.\n",
    "    #optimizer = nk.optimizer.Adam(learning_rate=0.05)\n",
    "    #optimizer = nk.optimizer.Momentum(learning_rate=0.005)\n",
    "    #optimizer = nk.optimizer.AdaGrad(learning_rate=0.05)\n",
    "    #optimizer = nk.optimizer.RmsProp(learning_rate=0.05)\n",
    "    optimizer = nk.optimizer.Sgd(learning_rate=0.05)\n",
    "\n",
    "    holo = True if nk.utils.is_probably_holomorphic(vstate._apply_fun,\n",
    "                                 vstate.parameters,\n",
    "                                 vstate.samples,\n",
    "                                 model_state = vstate.model_state) == True else False\n",
    "\n",
    "    preconditioner = nk.optimizer.SR(diag_shift=0.05, holomorphic = holo)\n",
    "\n",
    "    for j in range(grid):\n",
    "        for k in range(ygrid):\n",
    "            hamiltonian =  H_compass(Jz, del_Jz, Jx[j], del_Jx, hy[k], hi, g)\n",
    "            #if i == 1:\n",
    "            vstate.init_parameters()\n",
    "            vstate.n_samples = train_samples\n",
    "            gs = nk.driver.VMC(hamiltonian, optimizer, variational_state=vstate,preconditioner=preconditioner)\n",
    "\n",
    "            log=nk.logging.RuntimeLog()\n",
    "            gs.run(n_iter=n_iter,out=log)\n",
    "            vstate.n_samples = test_samples\n",
    "            tmp_e_gs = vstate.expect(hamiltonian)\n",
    "            tmp_mz = vstate.expect(m_z)\n",
    "            e_gs = e_gs.at[i,j,k].set((tmp_e_gs.mean).real)\n",
    "            em_e_gs = em_e_gs.at[i,j,k].set((tmp_e_gs.error_of_mean).real)\n",
    "            data_m_z = data_m_z.at[i,j,k].set((tmp_mz.mean).real)\n",
    "            em_m_z = em_m_z.at[i,j,k].set((tmp_mz.error_of_mean).real)"
   ]
  },
  {
   "cell_type": "code",
   "execution_count": null,
   "metadata": {},
   "outputs": [],
   "source": []
  },
  {
   "cell_type": "code",
   "execution_count": null,
   "metadata": {},
   "outputs": [],
   "source": []
  },
  {
   "cell_type": "code",
   "execution_count": null,
   "metadata": {},
   "outputs": [],
   "source": []
  },
  {
   "cell_type": "code",
   "execution_count": null,
   "metadata": {},
   "outputs": [],
   "source": []
  },
  {
   "cell_type": "code",
   "execution_count": null,
   "metadata": {},
   "outputs": [],
   "source": []
  },
  {
   "cell_type": "code",
   "execution_count": null,
   "metadata": {},
   "outputs": [],
   "source": [
    "d = [fss(i) for i in Lx]"
   ]
  },
  {
   "cell_type": "code",
   "execution_count": null,
   "metadata": {},
   "outputs": [],
   "source": [
    "d[0][0].shape"
   ]
  },
  {
   "cell_type": "code",
   "execution_count": null,
   "metadata": {},
   "outputs": [],
   "source": [
    "grid = 20\n",
    "h = jnp.linspace(0, 2, grid)\n",
    "N = [8,10,12]"
   ]
  },
  {
   "cell_type": "code",
   "execution_count": null,
   "metadata": {},
   "outputs": [],
   "source": [
    "[plt.errorbar(h, d[i][0]/N[i], yerr=d[i][1]/N[i]) for i in range(3)]\n",
    "plt.xlabel(\"h\")\n",
    "plt.ylabel(\"E/N\")"
   ]
  },
  {
   "cell_type": "code",
   "execution_count": null,
   "metadata": {},
   "outputs": [],
   "source": [
    "[plt.errorbar(h, d[i][2], yerr=np.sqrt(d[i][3])) for i in range(3)]\n",
    "plt.xlabel(\"h\")\n",
    "plt.ylabel(r\"$m_z$\")"
   ]
  },
  {
   "cell_type": "code",
   "execution_count": null,
   "metadata": {},
   "outputs": [],
   "source": [
    "[plt.plot(h, d[i][3]/N[i]) for i in range(3)]"
   ]
  },
  {
   "cell_type": "code",
   "execution_count": null,
   "metadata": {},
   "outputs": [],
   "source": []
  },
  {
   "cell_type": "code",
   "execution_count": null,
   "metadata": {},
   "outputs": [],
   "source": []
  },
  {
   "cell_type": "code",
   "execution_count": null,
   "metadata": {},
   "outputs": [],
   "source": []
  },
  {
   "cell_type": "code",
   "execution_count": null,
   "metadata": {},
   "outputs": [],
   "source": []
  },
  {
   "cell_type": "code",
   "execution_count": null,
   "metadata": {},
   "outputs": [],
   "source": [
    "Lx, Ly = 10, 2\n",
    "N = Lx*Ly"
   ]
  },
  {
   "cell_type": "code",
   "execution_count": null,
   "metadata": {},
   "outputs": [],
   "source": [
    "basis = jnp.array([\n",
    "\n",
    "    [1.0,0.0],\n",
    "\n",
    "    [0.0,1.0],\n",
    "\n",
    "])\n",
    "\n",
    "custom_edges = [\n",
    "\n",
    "    (0, 0, [1.0,0.0], 0),\n",
    "\n",
    "    (0, 0, [0.0,1.0], 1),\n",
    "\n",
    "]\n",
    "\n",
    "g = Lattice(basis_vectors=basis, pbc=True, extent=[Lx,Ly],\n",
    "\n",
    "    custom_edges=custom_edges)\n",
    "\n",
    "g.draw();\n",
    "#print(g.n_nodes)\n",
    "\n",
    "#print(len(g.edges(filter_color=0)))\n",
    "\n",
    "#print(len(g.edges(filter_color=1)))\n",
    "\n",
    "print(g.edges(filter_color=0))\n",
    "print(list(set(g.edges(filter_color=1))))"
   ]
  },
  {
   "cell_type": "code",
   "execution_count": null,
   "metadata": {},
   "outputs": [],
   "source": [
    "sym = nk.utils.group.PermutationGroup(g.translation_group(), degree = 20)"
   ]
  },
  {
   "cell_type": "code",
   "execution_count": null,
   "metadata": {},
   "outputs": [],
   "source": [
    "sym.irrep_matrices()"
   ]
  },
  {
   "cell_type": "code",
   "execution_count": null,
   "metadata": {},
   "outputs": [],
   "source": [
    "def com_tab(Lx,Ly,N):\n",
    "    x_bonds = []\n",
    "    z_bonds = []\n",
    "    for i in range(N):\n",
    "        if (i+1)%Ly == 0:\n",
    "            x_bonds.append([i, (i+1)%Ly + (i-Ly+1)])\n",
    "        else:\n",
    "            x_bonds.append([i, (i+1)%N])\n",
    "        if (i>=N-Ly):\n",
    "            z_bonds.append([i, (i+Lx-1)%Lx])\n",
    "        else:\n",
    "            z_bonds.append([i, (i+Lx-1)%N])\n",
    "    return x_bonds, z_bonds"
   ]
  },
  {
   "cell_type": "code",
   "execution_count": null,
   "metadata": {},
   "outputs": [],
   "source": [
    "g = nk.graph.Hypercube(length=Lx, n_dim=2, pbc=True)"
   ]
  },
  {
   "cell_type": "code",
   "execution_count": null,
   "metadata": {},
   "outputs": [],
   "source": [
    "hi = nk.hilbert.Spin(s=1/2, N=g.n_nodes)\n",
    "m_z = sum([sigmaz(hi,i) for i in g.nodes()])/g.n_nodes"
   ]
  },
  {
   "cell_type": "code",
   "execution_count": null,
   "metadata": {},
   "outputs": [],
   "source": []
  },
  {
   "cell_type": "code",
   "execution_count": null,
   "metadata": {},
   "outputs": [],
   "source": [
    "def H_compass(K, del_k, delta, del_delta, h, com_int):\n",
    "    hamiltonian = nk.operator.LocalOperator(hi)\n",
    "    x_b, z_b = com_int\n",
    "    for site in g.nodes():\n",
    "        ix,jx = x_b[site]\n",
    "        iz,jz = z_b[site]\n",
    "        hamiltonian = hamiltonian - K * sigmaz(hi, iz)@sigmaz(hi, jz) - delta * sigmax(hi, ix)@sigmax(hi, jx) - h * sigmay(hi, site) - del_k * sigmaz(hi,site) - del_delta * sigmax(hi, site)\n",
    "    return hamiltonian"
   ]
  },
  {
   "cell_type": "code",
   "execution_count": null,
   "metadata": {},
   "outputs": [],
   "source": [
    "symmetries = g.translation_group()\n",
    "#symmetries = g.automorphisms()\n",
    "#symmetries = g.point_group\n",
    "#symmetries = g.space_group\n",
    "feature_dims = (8,8,8,8)\n",
    "num_layers = 4"
   ]
  },
  {
   "cell_type": "code",
   "execution_count": null,
   "metadata": {},
   "outputs": [],
   "source": [
    "grid = 20\n",
    "theta = jnp.linspace(0,jnp.pi/2,grid)\n",
    "K = jnp.cos(theta)\n",
    "del_K = 0\n",
    "del_delta = 0\n",
    "delta = jnp.sin(theta)\n",
    "h = 1\n",
    "e_gs0 = jnp.zeros((grid), dtype='complex128')\n",
    "for i in range(grid):\n",
    "    hamiltonian =  H_compass(K[i], del_K, delta[i], del_delta, h)\n",
    "    #model = FFN(alpha=1)\n",
    "    model = nk.models.GCNN(symmetries=symmetries,features=feature_dims,layers=num_layers)\n",
    "    #model = nk.models.RBMSymm(symmetries=symmetries, alpha=1)\n",
    "    sampler = nk.sampler.MetropolisLocal(hi)\n",
    "    vstate = nk.vqs.MCState(sampler, model, n_samples=2048)\n",
    "\n",
    "    # Then we create an optimiser from the standard library.\n",
    "    # You can also use optax.\n",
    "    optimizer = nk.optimizer.Sgd(learning_rate=0.05)\n",
    "\n",
    "    # build the optimisation driver\n",
    "    gs = nk.driver.VMC(hamiltonian, optimizer, variational_state=vstate,preconditioner=nk.optimizer.SR(diag_shift=0.01))\n",
    "\n",
    "    # run the driver for 300 iterations. This will display a progress bar\n",
    "    # by default.\n",
    "\n",
    "    log=nk.logging.RuntimeLog()\n",
    "    gs.run(n_iter=100,out=log)\n",
    "    e_gs0 = e_gs0.at[i].set(log.data[\"Energy\"].Mean[-1])"
   ]
  },
  {
   "cell_type": "code",
   "execution_count": null,
   "metadata": {},
   "outputs": [],
   "source": []
  },
  {
   "cell_type": "code",
   "execution_count": null,
   "metadata": {},
   "outputs": [],
   "source": []
  },
  {
   "cell_type": "code",
   "execution_count": null,
   "metadata": {},
   "outputs": [],
   "source": []
  },
  {
   "cell_type": "code",
   "execution_count": null,
   "metadata": {},
   "outputs": [],
   "source": [
    "J = 1\n",
    "del_J = 0.01\n",
    "delta = 0\n",
    "del_del = 0.0\n",
    "grid = 20\n",
    "h = jnp.linspace(0, 2, grid)"
   ]
  },
  {
   "cell_type": "code",
   "execution_count": null,
   "metadata": {},
   "outputs": [],
   "source": [
    "model = nk.models.GCNN(symmetries=symmetries,features=feature_dims,layers=num_layers, param_dtype=\"complex\")\n",
    "#model = nk.models.RBMSymm(symmetries=symmetries, alpha=4, param_dtype=\"complex\")\n",
    "sampler = nk.sampler.MetropolisLocal(hi)\n",
    "vstate = nk.vqs.MCState(sampler, model ,n_samples=1024)\n",
    "\n",
    "# Then we create an optimiser from the standard library.\n",
    "# You can also use optax.\n",
    "optimizer = nk.optimizer.Sgd(learning_rate=0.05)\n",
    "\n",
    "holo = True if nk.utils.is_probably_holomorphic(vstate._apply_fun,\n",
    "                                 vstate.parameters,\n",
    "                                 vstate.samples,\n",
    "                                 model_state = vstate.model_state) == True else False\n",
    "\n",
    "preconditioner = nk.optimizer.SR(diag_shift=0.05, holomorphic = holo)"
   ]
  },
  {
   "cell_type": "code",
   "execution_count": null,
   "metadata": {},
   "outputs": [],
   "source": [
    "e_gs = jnp.zeros((grid), dtype='float64')\n",
    "var_e_gs = jnp.zeros((grid), dtype='float64')\n",
    "data_m_z = jnp.zeros((grid), dtype='float64')\n",
    "var_m_z = jnp.zeros((grid), dtype='float64')\n",
    "for i in range(grid):\n",
    "    hamiltonian =  H_compass(J, del_J, delta, del_del, h[i])\n",
    "    #vstate.init_parameters()\n",
    "    #vstate.n_samples = 5024\n",
    "    gs = nk.driver.VMC(hamiltonian, optimizer, variational_state=vstate,preconditioner=preconditioner)\n",
    "\n",
    "    log=nk.logging.RuntimeLog()\n",
    "    gs.run(n_iter=100,out=log)\n",
    "    #vstate.n_samples = 40000\n",
    "    tmp_e_gs = vstate.expect(hamiltonian)\n",
    "    e_gs = e_gs.at[i].set((tmp_e_gs.mean).real)\n",
    "    var_e_gs = var_e_gs.at[i].set((tmp_mz.variance).real)\n",
    "    tmp_mz = vstate.expect(m_z)\n",
    "    data_m_z = data_m_z.at[i].set((tmp_mz.mean).real)\n",
    "    var_m_z = var_m_z.at[i].set((tmp_mz.variance).real)"
   ]
  },
  {
   "cell_type": "code",
   "execution_count": null,
   "metadata": {},
   "outputs": [],
   "source": [
    "plt.plot(h, (e_gs)/N)\n",
    "plt.xlabel(\"h\")\n",
    "plt.ylabel(\"E/N\")"
   ]
  },
  {
   "cell_type": "code",
   "execution_count": null,
   "metadata": {},
   "outputs": [],
   "source": [
    "plt.plot(h,np.gradient(e_gs, np.diff(h)[0]))\n",
    "plt.plot(h,np.gradient(e_gs, h))"
   ]
  },
  {
   "cell_type": "code",
   "execution_count": null,
   "metadata": {},
   "outputs": [],
   "source": []
  },
  {
   "cell_type": "code",
   "execution_count": null,
   "metadata": {},
   "outputs": [],
   "source": []
  },
  {
   "cell_type": "code",
   "execution_count": null,
   "metadata": {},
   "outputs": [],
   "source": [
    "plt.errorbar(h[0:-1], (data_m_z[0:-1]), yerr=(var_m_z[0:-1]))\n",
    "plt.ylabel(r\"$m_z$\")\n",
    "plt.xlabel(\"h\")\n",
    "plt.title(\"L=4*2\")"
   ]
  },
  {
   "cell_type": "code",
   "execution_count": null,
   "metadata": {},
   "outputs": [],
   "source": [
    "plt.plot(h,-np.gradient(data_m_z, h))"
   ]
  },
  {
   "cell_type": "code",
   "execution_count": null,
   "metadata": {},
   "outputs": [],
   "source": []
  },
  {
   "cell_type": "code",
   "execution_count": null,
   "metadata": {},
   "outputs": [],
   "source": []
  },
  {
   "cell_type": "code",
   "execution_count": null,
   "metadata": {},
   "outputs": [],
   "source": []
  },
  {
   "cell_type": "code",
   "execution_count": null,
   "metadata": {},
   "outputs": [],
   "source": []
  },
  {
   "cell_type": "code",
   "execution_count": null,
   "metadata": {},
   "outputs": [],
   "source": [
    "grid = 20\n",
    "theta = jnp.linspace(0,jnp.pi/2,grid)\n",
    "gamma = jnp.linspace(0,jnp.pi/2,grid)\n",
    "e_gs0 = jnp.zeros((grid, grid), dtype='complex128')\n",
    "for i in range(grid):\n",
    "    for j in range(grid):\n",
    "        hamiltonian =  H_compass(jnp.cos(theta[i]), jnp.sin(theta[i]), gamma[j], com_tab(Lx,Ly,N))\n",
    "        #model = FFN(alpha=1)\n",
    "        model = nk.models.GCNN(symmetries=symmetries,features=feature_dims,layers=num_layers)\n",
    "        #model = nk.models.RBMSymm(symmetries=symmetries, alpha=1)\n",
    "        sampler = nk.sampler.MetropolisLocal(hi)\n",
    "        vstate = nk.vqs.MCState(sampler, model, n_samples=1024)\n",
    "\n",
    "        # Then we create an optimiser from the standard library.\n",
    "        # You can also use optax.\n",
    "        optimizer = nk.optimizer.Sgd(learning_rate=0.05)\n",
    "\n",
    "        # build the optimisation driver\n",
    "        gs = nk.driver.VMC(hamiltonian, optimizer, variational_state=vstate,preconditioner=nk.optimizer.SR(diag_shift=0.01))\n",
    "\n",
    "        # run the driver for 300 iterations. This will display a progress bar\n",
    "        # by default.\n",
    "\n",
    "        log=nk.logging.RuntimeLog()\n",
    "        gs.run(n_iter=100,out=log)\n",
    "        e_gs0 = e_gs0.at[i,j].set(log.data[\"Energy\"].Mean[-1])"
   ]
  },
  {
   "cell_type": "code",
   "execution_count": null,
   "metadata": {},
   "outputs": [],
   "source": [
    "[plt.plot(theta, (e_gs0[:,i]).real/N) for i in range(grid)]\n",
    "plt.xlabel(r\"$\\theta$\")\n",
    "plt.ylabel(\"E/N\")"
   ]
  },
  {
   "cell_type": "code",
   "execution_count": null,
   "metadata": {},
   "outputs": [],
   "source": [
    "[plt.plot(theta, (e_gs0[i]).real/N) for i in range(grid)]"
   ]
  },
  {
   "cell_type": "code",
   "execution_count": null,
   "metadata": {},
   "outputs": [],
   "source": [
    "[plt.plot(theta, (e_gs0[i]).real/N) for i in range(grid)]"
   ]
  },
  {
   "cell_type": "code",
   "execution_count": null,
   "metadata": {},
   "outputs": [],
   "source": []
  },
  {
   "cell_type": "code",
   "execution_count": null,
   "metadata": {},
   "outputs": [],
   "source": [
    "l = [4,5,6,7,8,9,10]\n",
    "n_l = len(l)"
   ]
  },
  {
   "cell_type": "code",
   "execution_count": null,
   "metadata": {},
   "outputs": [],
   "source": [
    "grid = 5\n",
    "ygrid = 20\n",
    "Jx = jnp.linspace(0, 1, grid)\n",
    "del_Jx = 0.0\n",
    "hy = jnp.linspace(0, 2, ygrid)"
   ]
  },
  {
   "cell_type": "code",
   "execution_count": null,
   "metadata": {},
   "outputs": [],
   "source": [
    "with open('netket_l_4-10.pickle', 'rb') as f:\n",
    "    e_gs, em_e_gs, data_m_z, em_m_z = pickle.load(f)"
   ]
  },
  {
   "cell_type": "code",
   "execution_count": null,
   "metadata": {},
   "outputs": [],
   "source": [
    "[[plt.plot(hy, e_gs[i,j,:]) for i in range(1)] for j in range(grid)]"
   ]
  },
  {
   "cell_type": "code",
   "execution_count": null,
   "metadata": {},
   "outputs": [],
   "source": [
    "[[plt.plot(hy,-np.gradient(e_gs[i,j,:], hy)) for i in range(1)] for j in range(grid)]"
   ]
  },
  {
   "cell_type": "code",
   "execution_count": null,
   "metadata": {},
   "outputs": [],
   "source": [
    "[[plt.plot(hy,np.gradient(-np.gradient(e_gs[i,j,:], hy), hy), label= \"%d\" %l[i]) for i in range(n_l)] for j in range(1)]\n",
    "plt.legend()"
   ]
  },
  {
   "cell_type": "code",
   "execution_count": null,
   "metadata": {},
   "outputs": [],
   "source": []
  },
  {
   "cell_type": "code",
   "execution_count": null,
   "metadata": {},
   "outputs": [],
   "source": []
  },
  {
   "cell_type": "markdown",
   "metadata": {},
   "source": [
    "<h1>Magnetization</h1>"
   ]
  },
  {
   "cell_type": "code",
   "execution_count": null,
   "metadata": {},
   "outputs": [],
   "source": [
    "[[plt.plot(hy, data_m_z[i,j,:]) for i in [3]] for j in range(grid)]"
   ]
  },
  {
   "cell_type": "code",
   "execution_count": null,
   "metadata": {},
   "outputs": [],
   "source": []
  },
  {
   "cell_type": "code",
   "execution_count": null,
   "metadata": {},
   "outputs": [],
   "source": []
  }
 ],
 "metadata": {
  "kernelspec": {
   "display_name": "base",
   "language": "python",
   "name": "python3"
  },
  "language_info": {
   "codemirror_mode": {
    "name": "ipython",
    "version": 3
   },
   "file_extension": ".py",
   "mimetype": "text/x-python",
   "name": "python",
   "nbconvert_exporter": "python",
   "pygments_lexer": "ipython3",
   "version": "3.11.7"
  }
 },
 "nbformat": 4,
 "nbformat_minor": 2
}
