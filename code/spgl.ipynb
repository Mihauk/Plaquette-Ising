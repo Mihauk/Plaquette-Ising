{
 "cells": [
  {
   "cell_type": "code",
   "execution_count": 1,
   "metadata": {},
   "outputs": [],
   "source": [
    "from quspin.operators import hamiltonian\n",
    "from quspin.basis import spin_basis_general\n",
    "import numpy as np\n",
    "import matplotlib.pyplot as plt"
   ]
  },
  {
   "cell_type": "code",
   "execution_count": 2,
   "metadata": {},
   "outputs": [],
   "source": [
    "%matplotlib inline"
   ]
  },
  {
   "cell_type": "code",
   "execution_count": 3,
   "metadata": {},
   "outputs": [],
   "source": [
    "import sympy\n",
    "from sympy import init_printing\n",
    "init_printing(use_latex=True)"
   ]
  },
  {
   "cell_type": "code",
   "execution_count": 136,
   "metadata": {
    "scrolled": true
   },
   "outputs": [
    {
     "name": "stdout",
     "output_type": "stream",
     "text": [
      "0.0\n",
      "Hermiticity check passed!\n",
      "Symmetry checks passed!\n",
      "[2 2]\n",
      "(2,)\n",
      "11.11111111111111\n",
      "Hermiticity check passed!\n",
      "Symmetry checks passed!\n",
      "[1 1 1 1]\n",
      "(4,)\n",
      "22.22222222222222\n",
      "Hermiticity check passed!\n",
      "Symmetry checks passed!\n",
      "[1 1 1 1]\n",
      "(4,)\n",
      "33.33333333333333\n",
      "Hermiticity check passed!\n",
      "Symmetry checks passed!\n",
      "[1 1 2]\n",
      "(3,)\n",
      "44.44444444444444\n",
      "Hermiticity check passed!\n",
      "Symmetry checks passed!\n",
      "[1 1 1 1]\n",
      "(4,)\n",
      "55.55555555555556\n",
      "Hermiticity check passed!\n",
      "Symmetry checks passed!\n",
      "[1 1 2]\n",
      "(3,)\n",
      "66.66666666666666\n",
      "Hermiticity check passed!\n",
      "Symmetry checks passed!\n",
      "[2 2]\n",
      "(2,)\n",
      "77.77777777777777\n",
      "Hermiticity check passed!\n",
      "Symmetry checks passed!\n",
      "[2 1 1]\n",
      "(3,)\n",
      "88.88888888888889\n",
      "Hermiticity check passed!\n",
      "Symmetry checks passed!\n",
      "[1 1 2]\n",
      "(3,)\n",
      "100.0\n",
      "Hermiticity check passed!\n",
      "Symmetry checks passed!\n",
      "[1 1 1 1]\n",
      "(4,)\n"
     ]
    },
    {
     "data": {
      "text/plain": [
       "Text(0,0.5,'$E_n-E_0$')"
      ]
     },
     "execution_count": 136,
     "metadata": {},
     "output_type": "execute_result"
    },
    {
     "data": {
      "image/png": "[encoded data removed]",
      "text/plain": [
       "<Figure size 432x288 with 1 Axes>"
      ]
     },
     "metadata": {
      "needs_background": "light"
     },
     "output_type": "display_data"
    }
   ],
   "source": [
    "J = 1.0\n",
    "#delta = 0.5\n",
    "grid = 10\n",
    "delta = np.linspace(0,100,grid)\n",
    "Lx, Ly = 2, 2\n",
    "N = Lx*Ly\n",
    "\n",
    "s = np.arange(N)\n",
    "x = s%Lx\n",
    "y = s//Lx\n",
    "Tx = (x+1)%Lx + Lx*y\n",
    "Z   = -(s+1)\n",
    "P_x = x + Lx*(2-y-1)\n",
    "P_y = (Lx-x-1) + Lx*y\n",
    "\n",
    "#basis = spin_basis_general(N)\n",
    "basis = spin_basis_general(N,kxblock=(Tx,0),zblock=(Z,1))\n",
    "\n",
    "Jz = [[-J,i,Tx[i],s[i+Lx],Tx[i+Lx]] for i in range(Lx*(Ly-1))]\n",
    "En = np.zeros((basis.Ns,delta.size),dtype=np.float64)\n",
    "\n",
    "for j in range(grid):\n",
    "\n",
    "\tdelx = [[delta[j],i] for i in range(N)]\n",
    "\tstatic = [[\"zzzz\",Jz],[\"x\",delx]]\n",
    "\tprint(delta[j])\n",
    "\tH = hamiltonian(static,[],basis=basis)#,dtype=np.float64)\n",
    "\tE = H.eigvalsh()\n",
    "\tfor i in range(basis.Ns):\n",
    "\t\tEn[i,j] = E[i]#-E[0]\n",
    "\n",
    "\tu, count = np.unique(En[:,j], return_counts=True)\n",
    "\tprint(count)\n",
    "\tprint(count.shape)\n",
    "\n",
    "fig = plt.figure()\n",
    "ax = fig.add_subplot(1, 1, 1)\n",
    "for i in range(basis.Ns):\n",
    "\tax.plot(delta,En[i])\n",
    "\n",
    "plt.xlabel(r\"$\\Delta$\")\n",
    "plt.ylabel(r\"$E_n-E_0$\")"
   ]
  },
  {
   "cell_type": "code",
   "execution_count": 137,
   "metadata": {
    "scrolled": true
   },
   "outputs": [
    {
     "name": "stdout",
     "output_type": "stream",
     "text": [
      "0.0\n",
      "Hermiticity check passed!\n",
      "Symmetry checks passed!\n",
      "[4 8]\n",
      "(2,)\n",
      "11.11111111111111\n",
      "Hermiticity check passed!\n",
      "Symmetry checks passed!\n",
      "[1 1 1 1 1 1 1 1 1 1 1 1]\n",
      "(12,)\n",
      "22.22222222222222\n",
      "Hermiticity check passed!\n",
      "Symmetry checks passed!\n",
      "[2 1 1 1 1 1 1 1 1 1 1]\n",
      "(11,)\n",
      "33.33333333333333\n",
      "Hermiticity check passed!\n",
      "Symmetry checks passed!\n",
      "[2 1 1 1 1 1 1 1 1 1 1]\n",
      "(11,)\n",
      "44.44444444444444\n",
      "Hermiticity check passed!\n",
      "Symmetry checks passed!\n",
      "[1 1 1 1 1 1 1 1 1 1 1 1]\n",
      "(12,)\n",
      "55.55555555555556\n",
      "Hermiticity check passed!\n",
      "Symmetry checks passed!\n",
      "[1 1 1 1 1 1 1 1 1 1 1 1]\n",
      "(12,)\n",
      "66.66666666666666\n",
      "Hermiticity check passed!\n",
      "Symmetry checks passed!\n",
      "[1 1 1 1 1 1 1 1 1 1 1 1]\n",
      "(12,)\n",
      "77.77777777777777\n",
      "Hermiticity check passed!\n",
      "Symmetry checks passed!\n",
      "[1 1 1 1 1 1 1 1 1 1 1 1]\n",
      "(12,)\n",
      "88.88888888888889\n",
      "Hermiticity check passed!\n",
      "Symmetry checks passed!\n",
      "[1 1 1 1 1 1 1 1 1 1 2]\n",
      "(11,)\n",
      "100.0\n",
      "Hermiticity check passed!\n",
      "Symmetry checks passed!\n",
      "[2 1 1 1 1 1 1 1 1 2]\n",
      "(10,)\n"
     ]
    },
    {
     "data": {
      "text/plain": [
       "Text(0,0.5,'$E_n-E_0$')"
      ]
     },
     "execution_count": 137,
     "metadata": {},
     "output_type": "execute_result"
    },
    {
     "data": {
      "image/png": "[encoded data removed]",
      "text/plain": [
       "<Figure size 432x288 with 1 Axes>"
      ]
     },
     "metadata": {
      "needs_background": "light"
     },
     "output_type": "display_data"
    }
   ],
   "source": [
    "J = 1.0\n",
    "#delta = 0.5\n",
    "grid = 10\n",
    "delta = np.linspace(0,100,grid)\n",
    "Lx, Ly = 3, 2\n",
    "N = Lx*Ly\n",
    "\n",
    "s = np.arange(N)\n",
    "x = s%Lx\n",
    "y = s//Lx\n",
    "Tx = (x+1)%Lx + Lx*y\n",
    "Z   = -(s+1)\n",
    "P_x = x + Lx*(2-y-1)\n",
    "P_y = (Lx-x-1) + Lx*y\n",
    "\n",
    "#basis = spin_basis_general(N)\n",
    "basis = spin_basis_general(N,kxblock=(Tx,0),zblock=(Z,1))\n",
    "\n",
    "Jz = [[-J,i,Tx[i],s[i+Lx],Tx[i+Lx]] for i in range(Lx*(Ly-1))]\n",
    "En1 = np.zeros((basis.Ns,delta.size),dtype=np.float64)\n",
    "\n",
    "for j in range(grid):\n",
    "\n",
    "\tdelx = [[delta[j],i] for i in range(N)]\n",
    "\tstatic = [[\"zzzz\",Jz],[\"x\",delx]]\n",
    "\tprint(delta[j])\n",
    "\tH = hamiltonian(static,[],basis=basis)#,dtype=np.float64)\n",
    "\tE = H.eigvalsh()\n",
    "\tfor i in range(basis.Ns):\n",
    "\t\tEn1[i,j] = E[i]#-E[0]\n",
    "\n",
    "\tu, count = np.unique(En1[:,j], return_counts=True)\n",
    "\tprint(count)\n",
    "\tprint(count.shape)\n",
    "\n",
    "fig = plt.figure()\n",
    "ax = fig.add_subplot(1, 1, 1)\n",
    "for i in range(basis.Ns):\n",
    "\tax.plot(delta,En1[i])\n",
    "\n",
    "plt.xlabel(r\"$\\Delta$\")\n",
    "plt.ylabel(r\"$E_n-E_0$\")"
   ]
  },
  {
   "cell_type": "code",
   "execution_count": 138,
   "metadata": {
    "scrolled": true
   },
   "outputs": [
    {
     "name": "stdout",
     "output_type": "stream",
     "text": [
      "0.0\n",
      "Hermiticity check passed!\n",
      "Symmetry checks passed!\n",
      "[ 4 24  4]\n",
      "(3,)\n",
      "11.11111111111111\n",
      "Hermiticity check passed!\n",
      "Symmetry checks passed!\n",
      "[1 1 1 1 1 1 1 1 2 1 1 1 1 1 1 1 1 1 1 2 1 2 1 1 1 1 1 1 1]\n",
      "(29,)\n",
      "22.22222222222222\n",
      "Hermiticity check passed!\n",
      "Symmetry checks passed!\n",
      "[1 1 1 1 2 1 1 1 1 1 1 1 1 1 1 1 1 1 1 1 1 1 1 1 1 1 1 1 1 1 1]\n",
      "(31,)\n",
      "33.33333333333333\n",
      "Hermiticity check passed!\n",
      "Symmetry checks passed!\n",
      "[1 1 1 1 1 1 1 1 1 1 1 1 1 1 1 1 1 1 1 1 1 1 1 1 1 1 1 1 1 1 1 1]\n",
      "(32,)\n",
      "44.44444444444444\n",
      "Hermiticity check passed!\n",
      "Symmetry checks passed!\n",
      "[1 1 1 1 1 1 1 1 2 2 1 1 1 1 1 1 1 1 1 1 1 1 1 1 1 1 2 1 1]\n",
      "(29,)\n",
      "55.55555555555556\n",
      "Hermiticity check passed!\n",
      "Symmetry checks passed!\n",
      "[1 1 1 1 1 1 1 1 1 1 1 1 1 1 1 1 1 1 2 1 1 1 1 1 1 1 1 1 1 1 1]\n",
      "(31,)\n",
      "66.66666666666666\n",
      "Hermiticity check passed!\n",
      "Symmetry checks passed!\n",
      "[1 1 1 1 2 1 1 1 1 1 1 1 1 1 1 1 1 1 1 1 1 1 1 1 1 1 1 1 1 1 1]\n",
      "(31,)\n",
      "77.77777777777777\n",
      "Hermiticity check passed!\n",
      "Symmetry checks passed!\n",
      "[1 1 1 1 1 1 1 1 1 1 1 1 1 1 1 1 1 1 1 1 1 2 1 1 1 1 1 1 1 1 1]\n",
      "(31,)\n",
      "88.88888888888889\n",
      "Hermiticity check passed!\n",
      "Symmetry checks passed!\n",
      "[2 1 1 1 1 1 1 2 1 1 1 1 1 1 1 1 1 1 1 1 1 1 1 1 1 1 1 1 1 1]\n",
      "(30,)\n",
      "100.0\n",
      "Hermiticity check passed!\n",
      "Symmetry checks passed!\n",
      "[1 1 1 1 1 1 1 1 1 1 1 1 1 1 1 1 1 1 1 1 1 1 1 1 1 1 1 1 1 1 1 1]\n",
      "(32,)\n"
     ]
    },
    {
     "data": {
      "text/plain": [
       "Text(0,0.5,'$E_n-E_0$')"
      ]
     },
     "execution_count": 138,
     "metadata": {},
     "output_type": "execute_result"
    },
    {
     "data": {
      "image/png": "[encoded data removed]",
      "text/plain": [
       "<Figure size 432x288 with 1 Axes>"
      ]
     },
     "metadata": {
      "needs_background": "light"
     },
     "output_type": "display_data"
    }
   ],
   "source": [
    "J = 1.0\n",
    "#delta = 0.5\n",
    "grid = 10\n",
    "delta = np.linspace(0,100,grid)\n",
    "Lx, Ly = 4, 2\n",
    "N = Lx*Ly\n",
    "\n",
    "s = np.arange(N)\n",
    "x = s%Lx\n",
    "y = s//Lx\n",
    "Tx = (x+1)%Lx + Lx*y\n",
    "Z   = -(s+1)\n",
    "P_x = x + Lx*(2-y-1)\n",
    "P_y = (Lx-x-1) + Lx*y\n",
    "\n",
    "#basis = spin_basis_general(N)\n",
    "basis = spin_basis_general(N,kxblock=(Tx,0),zblock=(Z,1))\n",
    "\n",
    "Jz = [[-J,i,Tx[i],s[i+Lx],Tx[i+Lx]] for i in range(Lx*(Ly-1))]\n",
    "En2 = np.zeros((basis.Ns,delta.size),dtype=np.float64)\n",
    "\n",
    "for j in range(grid):\n",
    "\n",
    "\tdelx = [[delta[j],i] for i in range(N)]\n",
    "\tstatic = [[\"zzzz\",Jz],[\"x\",delx]]\n",
    "\tprint(delta[j])\n",
    "\tH = hamiltonian(static,[],basis=basis)#,dtype=np.float64)\n",
    "\tE = H.eigvalsh()\n",
    "\tfor i in range(basis.Ns):\n",
    "\t\tEn2[i,j] = E[i]#-E[0]\n",
    "\n",
    "\tu, count = np.unique(En2[:,j], return_counts=True)\n",
    "\tprint(count)\n",
    "\tprint(count.shape)\n",
    "\n",
    "fig = plt.figure()\n",
    "ax = fig.add_subplot(1, 1, 1)\n",
    "for i in range(basis.Ns):\n",
    "\tax.plot(delta,En2[i])\n",
    "\n",
    "plt.xlabel(r\"$\\Delta$\")\n",
    "plt.ylabel(r\"$E_n-E_0$\")"
   ]
  },
  {
   "cell_type": "code",
   "execution_count": 139,
   "metadata": {
    "scrolled": true
   },
   "outputs": [
    {
     "name": "stdout",
     "output_type": "stream",
     "text": [
      "0.0\n",
      "Hermiticity check passed!\n",
      "Symmetry checks passed!\n",
      "[ 8 64 32]\n",
      "(3,)\n",
      "11.11111111111111\n",
      "Hermiticity check passed!\n",
      "Symmetry checks passed!\n",
      "[1 1 1 1 1 1 1 1 1 1 1 1 1 1 1 1 1 1 1 1 1 1 1 1 1 1 1 1 1 1 1 1 1 1 1 1 1\n",
      " 1 1 1 1 1 1 1 1 1 1 1 1 1 1 1 1 1 1 1 1 1 1 1 1 1 1 1 1 1 1 1 1 1 1 1 1 1\n",
      " 1 1 1 1 1 1 1 1 1 1 1 1 1 1 1 1 1 1 1 1 2 1 1 1 1 1 1 1 1]\n",
      "(103,)\n",
      "22.22222222222222\n",
      "Hermiticity check passed!\n",
      "Symmetry checks passed!\n",
      "[1 1 2 1 1 1 1 1 1 1 1 1 1 1 1 1 1 1 1 1 1 1 1 1 1 1 1 1 1 1 1 1 1 1 1 1 1\n",
      " 1 1 1 1 1 1 1 1 1 1 1 1 1 1 1 1 1 1 1 1 1 1 1 1 1 1 1 1 1 1 1 1 1 1 1 1 1\n",
      " 1 1 1 1 1 1 1 1 1 1 1 1 1 1 1 1 1 1 1 1 1 1 1 1 1 1 1 1 1]\n",
      "(103,)\n",
      "33.33333333333333\n",
      "Hermiticity check passed!\n",
      "Symmetry checks passed!\n",
      "[1 1 1 1 1 1 1 1 1 1 2 1 2 1 1 1 1 1 1 1 1 1 1 1 1 1 1 1 1 1 1 1 1 1 1 1 1\n",
      " 1 1 1 1 1 1 1 1 1 1 1 1 1 1 1 1 1 1 1 1 1 1 1 1 1 1 1 1 1 1 1 1 1 1 1 1 1\n",
      " 1 1 1 1 1 1 1 1 1 1 1 1 3 1 2 2 1 1 1 1 1 1 1 1]\n",
      "(98,)\n",
      "44.44444444444444\n",
      "Hermiticity check passed!\n",
      "Symmetry checks passed!\n",
      "[1 1 2 1 1 1 1 1 1 1 1 1 1 1 1 1 1 1 1 1 1 1 1 1 1 1 1 1 1 1 1 1 1 1 1 1 1\n",
      " 1 1 1 1 1 1 1 1 1 1 1 1 1 1 1 1 1 1 1 1 1 1 1 1 1 1 1 1 1 1 1 1 1 1 1 1 1\n",
      " 1 1 1 1 1 1 1 1 1 1 1 1 1 1 2 1 1 1 2 1 1 1 1 1 1 1 1]\n",
      "(101,)\n",
      "55.55555555555556\n",
      "Hermiticity check passed!\n",
      "Symmetry checks passed!\n",
      "[1 1 1 1 1 1 1 1 1 1 1 1 1 1 2 1 1 1 1 1 1 1 1 1 1 1 1 1 1 1 1 1 1 1 1 1 1\n",
      " 1 1 1 1 1 1 1 1 1 1 1 1 1 1 1 1 1 1 1 1 1 1 1 1 1 1 1 1 1 1 1 1 1 1 1 1 1\n",
      " 1 1 1 1 1 1 1 1 1 1 1 2 2 1 1 1 1 1 1 1 1 1 1 1 1 1 1]\n",
      "(101,)\n",
      "66.66666666666666\n",
      "Hermiticity check passed!\n",
      "Symmetry checks passed!\n",
      "[2 1 1 1 1 1 1 1 1 1 1 1 1 1 1 1 1 1 2 1 1 1 1 1 1 1 1 1 1 1 1 1 1 1 1 1 1\n",
      " 1 1 1 1 1 1 1 1 1 1 1 1 1 1 1 1 1 1 1 1 1 1 1 1 1 1 1 1 1 1 1 1 1 1 1 1 1\n",
      " 1 1 1 1 1 1 1 1 1 1 1 1 1 1 1 1 1 1 1 1 1 1 1 1 1 1 1 1]\n",
      "(102,)\n",
      "77.77777777777777\n",
      "Hermiticity check passed!\n",
      "Symmetry checks passed!\n",
      "[1 1 1 1 1 1 1 1 1 1 1 1 1 1 1 1 1 1 2 1 1 2 1 1 1 1 1 1 1 1 1 1 1 1 1 1 1\n",
      " 1 1 1 1 1 1 1 1 1 1 1 1 1 1 1 1 1 1 1 1 1 1 1 1 1 1 1 1 1 1 1 1 1 1 1 1 1\n",
      " 1 1 1 1 2 1 1 1 1 1 1 1 2 1 2 1 1 1 1 2 2 1 1]\n",
      "(97,)\n",
      "88.88888888888889\n",
      "Hermiticity check passed!\n",
      "Symmetry checks passed!\n",
      "[1 1 1 1 1 1 1 1 2 1 1 1 1 2 1 1 1 1 1 1 1 1 1 1 1 1 1 1 1 1 1 1 1 1 1 1 1\n",
      " 1 1 1 1 1 1 1 1 1 1 1 1 1 1 1 1 1 1 1 1 1 1 1 1 1 1 1 1 1 1 1 1 1 1 1 1 1\n",
      " 1 1 1 1 1 1 1 1 1 1 1 1 1 1 1 1 1 1 1 1 1 1 1 1 1 1 2]\n",
      "(101,)\n",
      "100.0\n",
      "Hermiticity check passed!\n",
      "Symmetry checks passed!\n",
      "[1 1 1 1 1 1 1 1 1 1 1 1 1 1 1 1 1 1 2 1 1 1 1 1 1 1 1 1 1 1 1 1 1 1 1 1 1\n",
      " 1 1 1 1 1 1 1 1 1 1 1 1 1 1 1 1 1 1 1 1 1 1 1 1 1 1 1 1 1 1 1 1 1 1 1 1 1\n",
      " 1 1 1 1 1 1 1 1 1 1 1 1 1 1 1 1 1 1 1 1 1 1 1 1 1 1 1 1 1]\n",
      "(103,)\n"
     ]
    },
    {
     "data": {
      "text/plain": [
       "Text(0,0.5,'$E_n-E_0$')"
      ]
     },
     "execution_count": 139,
     "metadata": {},
     "output_type": "execute_result"
    },
    {
     "data": {
      "image/png": "[encoded data removed]",
      "text/plain": [
       "<Figure size 432x288 with 1 Axes>"
      ]
     },
     "metadata": {
      "needs_background": "light"
     },
     "output_type": "display_data"
    }
   ],
   "source": [
    "J = 1.0\n",
    "#delta = 0.5\n",
    "grid = 10\n",
    "delta = np.linspace(0,100,grid)\n",
    "Lx, Ly = 5, 2\n",
    "N = Lx*Ly\n",
    "\n",
    "s = np.arange(N)\n",
    "x = s%Lx\n",
    "y = s//Lx\n",
    "Tx = (x+1)%Lx + Lx*y\n",
    "Z   = -(s+1)\n",
    "P_x = x + Lx*(2-y-1)\n",
    "P_y = (Lx-x-1) + Lx*y\n",
    "\n",
    "#basis = spin_basis_general(N)\n",
    "basis = spin_basis_general(N,kxblock=(Tx,0),zblock=(Z,1))\n",
    "\n",
    "Jz = [[-J,i,Tx[i],s[i+Lx],Tx[i+Lx]] for i in range(Lx*(Ly-1))]\n",
    "En3 = np.zeros((basis.Ns,delta.size),dtype=np.float64)\n",
    "\n",
    "for j in range(grid):\n",
    "\n",
    "\tdelx = [[delta[j],i] for i in range(N)]\n",
    "\tstatic = [[\"zzzz\",Jz],[\"x\",delx]]\n",
    "\tprint(delta[j])\n",
    "\tH = hamiltonian(static,[],basis=basis)#,dtype=np.float64)\n",
    "\tE = H.eigvalsh()\n",
    "\tfor i in range(basis.Ns):\n",
    "\t\tEn3[i,j] = E[i]#-E[0]\n",
    "\n",
    "\tu, count = np.unique(En3[:,j], return_counts=True)\n",
    "\tprint(count)\n",
    "\tprint(count.shape)\n",
    "\n",
    "fig = plt.figure()\n",
    "ax = fig.add_subplot(1, 1, 1)\n",
    "for i in range(basis.Ns):\n",
    "\tax.plot(delta,En3[i])\n",
    "\n",
    "plt.xlabel(r\"$\\Delta$\")\n",
    "plt.ylabel(r\"$E_n-E_0$\")"
   ]
  },
  {
   "cell_type": "code",
   "execution_count": 140,
   "metadata": {
    "scrolled": true
   },
   "outputs": [
    {
     "name": "stdout",
     "output_type": "stream",
     "text": [
      "0.0\n",
      "Hermiticity check passed!\n",
      "Symmetry checks passed!\n",
      "[ 12 160 160  12]\n",
      "(4,)\n",
      "11.11111111111111\n",
      "Hermiticity check passed!\n",
      "Symmetry checks passed!\n",
      "[1 1 1 1 1 1 1 1 1 1 1 1 1 1 2 1 1 1 1 1 2 1 1 1 1 1 1 1 1 1 2 1 1 2 1 1 1\n",
      " 1 1 1 1 1 1 1 1 1 1 1 1 1 2 1 1 1 2 1 1 1 1 1 1 1 1 1 1 1 1 1 1 1 1 1 1 1\n",
      " 1 1 2 1 1 1 1 2 2 1 3 1 2 1 2 1 5 1 1 1 1 1 1 1 1 1 1 1 1 1 1 1 1 1 1 1 1\n",
      " 1 1 1 1 1 1 2 2 2 1 1 1 1 1 1 1 1 1 2 1 1 1 1 2 1 1 1 1 1 1 2 1 1 1 1 1 1\n",
      " 1 1 1 1 1 1 1 1 1 1 1 1 1 1 1 2 1 1 1 1 1 2 1 1 1 1 1 1 1 1 2 1 1 1 1 1 1\n",
      " 1 1 1 1 1 1 1 1 1 1 1 1 1 1 1 1 1 1 1 1 1 1 1 1 1 1 1 3 2 1 1 2 2 1 1 1 1\n",
      " 1 1 1 1 1 1 1 1 1 1 1 1 1 1 1 1 1 1 1 1 1 1 1 1 1 1 1 1 1 2 2 2 1 1 1 1 1\n",
      " 1 1 1 1 1 1 1 1 1 1 1 1 1 1 1 1 1 1 1 1 1 1 1 1 1 1 1 1 1 1 1 1 1 1 1 1 1\n",
      " 1 1 2 1 1 1 1 1 1 1 1 1 1]\n",
      "(309,)\n",
      "22.22222222222222\n",
      "Hermiticity check passed!\n",
      "Symmetry checks passed!\n",
      "[1 1 1 1 1 1 2 1 1 1 1 1 1 1 1 1 1 1 1 1 1 1 1 1 1 1 2 1 1 2 1 1 1 1 1 1 1\n",
      " 1 1 1 1 1 1 1 1 2 1 1 2 1 1 1 1 1 2 1 1 1 1 1 1 1 1 1 1 2 1 1 1 1 1 1 1 1\n",
      " 1 1 1 1 1 2 1 3 2 2 1 1 2 1 2 2 2 1 2 1 1 2 2 1 1 2 2 3 1 1 1 1 1 1 1 1 1\n",
      " 1 1 1 1 1 1 1 1 1 1 1 1 1 1 2 1 1 1 2 1 2 1 1 1 1 1 1 1 1 1 1 1 1 1 1 1 1\n",
      " 1 1 1 1 1 1 1 1 1 1 1 1 1 1 1 1 1 1 1 1 1 1 1 1 1 1 1 1 1 1 1 1 1 1 2 1 1\n",
      " 1 1 1 1 1 1 1 1 1 1 1 1 1 1 1 1 1 1 1 1 1 1 1 1 1 1 1 1 5 1 1 1 2 1 1 1 1\n",
      " 1 1 2 1 1 1 1 1 1 1 1 1 1 1 1 1 1 1 1 1 1 1 1 1 1 1 1 1 1 1 1 2 1 1 1 1 1\n",
      " 1 1 1 1 1 1 1 1 1 1 1 1 1 1 1 1 1 2 1 1 1 1 1 1 1 1 1 1 1 1 1 1 2 1 1 1 1\n",
      " 1 1 1 2 1 1 1 1 1 1 1]\n",
      "(307,)\n",
      "33.33333333333333\n",
      "Hermiticity check passed!\n",
      "Symmetry checks passed!\n",
      "[1 1 1 1 1 1 1 1 1 1 1 1 1 1 1 1 1 1 1 1 1 1 1 1 1 1 1 1 1 1 1 1 1 1 1 1 1\n",
      " 1 1 1 1 1 2 2 1 2 1 1 1 2 2 2 1 3 1 1 1 1 1 1 1 1 1 1 1 1 1 1 1 1 1 1 1 1\n",
      " 1 1 1 1 2 3 4 2 1 4 3 2 1 1 1 1 1 1 1 1 1 1 1 1 1 1 1 1 1 1 1 1 1 1 1 1 1\n",
      " 1 1 1 1 1 1 1 1 1 1 2 1 1 1 1 1 1 1 1 1 1 1 1 1 1 1 1 2 1 1 1 1 1 1 1 1 1\n",
      " 1 1 1 1 1 1 1 1 1 1 1 1 1 1 1 1 1 1 1 1 1 1 1 1 1 1 1 1 1 1 1 1 1 1 1 1 1\n",
      " 1 1 1 1 1 1 1 1 1 1 1 1 1 1 1 1 1 1 1 1 1 1 1 1 1 1 1 1 1 1 1 1 1 1 2 2 1\n",
      " 2 1 1 1 1 1 1 1 1 1 1 1 1 1 1 1 1 2 1 1 1 1 1 1 1 1 1 1 1 1 1 1 1 1 1 1 1\n",
      " 2 1 1 1 1 1 1 1 1 1 1 1 1 1 1 1 1 1 1 1 1 1 1 1 1 1 1 1 1 1 1 1 1 1 1 1 1\n",
      " 1 1 1 1 1 1 1 2 1 1 1 1 1 1 1 1 1 1 1]\n",
      "(315,)\n",
      "44.44444444444444\n",
      "Hermiticity check passed!\n",
      "Symmetry checks passed!\n",
      "[1 1 1 1 1 1 1 2 1 1 1 1 1 1 1 1 1 1 1 1 1 1 1 1 1 1 1 1 1 1 1 1 1 2 1 1 1\n",
      " 1 1 1 1 1 1 1 1 1 1 1 1 1 1 1 1 1 1 1 1 1 2 1 1 1 1 1 1 1 1 1 3 1 1 1 2 1\n",
      " 2 1 1 1 1 1 1 1 1 2 2 1 1 2 2 1 2 2 1 1 1 2 1 1 1 1 1 1 1 1 1 1 1 1 1 1 1\n",
      " 1 2 1 1 1 1 1 1 1 1 1 1 1 1 1 1 1 1 1 1 1 1 1 1 1 1 1 1 1 1 1 1 2 2 1 1 1\n",
      " 1 1 1 1 1 1 1 1 1 1 1 2 1 1 1 1 1 1 1 2 1 1 1 1 1 1 1 1 1 1 1 1 1 1 1 1 1\n",
      " 1 1 1 1 1 1 1 1 1 1 1 1 1 1 1 1 1 1 1 1 1 1 1 1 1 1 1 1 1 1 1 1 1 1 1 1 3\n",
      " 3 1 1 2 1 2 1 1 1 1 2 1 1 1 1 1 1 1 1 1 1 1 1 1 1 1 1 1 1 1 1 1 1 1 2 1 1\n",
      " 1 1 1 1 1 1 1 1 1 1 1 1 1 1 1 1 1 1 1 1 1 1 1 1 1 2 1 1 2 1 1 1 1 1 1 1 1\n",
      " 1 1 1 2 1 2 1 1 1 1 1 1 1 1 1 1 1]\n",
      "(313,)\n",
      "55.55555555555556\n",
      "Hermiticity check passed!\n",
      "Symmetry checks passed!\n",
      "[1 1 1 1 1 1 1 2 1 1 1 1 1 1 1 1 1 1 1 1 1 1 1 1 1 1 2 1 1 1 2 1 1 1 1 1 1\n",
      " 1 1 1 1 1 1 1 1 1 1 2 1 1 1 1 1 1 1 1 2 1 1 1 1 2 2 1 1 1 1 1 1 1 1 1 1 1\n",
      " 1 1 1 1 1 2 1 2 3 1 3 1 2 1 1 2 1 1 1 1 1 1 1 1 1 2 1 1 1 1 1 1 1 2 1 1 1\n",
      " 1 1 1 1 1 1 1 1 1 1 1 1 1 1 1 1 1 1 1 1 1 2 1 1 1 2 1 1 2 1 1 1 1 1 1 1 1\n",
      " 1 1 1 1 1 1 1 1 1 1 1 1 1 2 1 1 1 1 1 1 1 1 1 1 1 1 1 1 1 1 1 1 1 1 1 1 1\n",
      " 1 1 1 1 1 1 1 1 1 1 1 1 1 1 1 1 1 1 1 1 1 1 1 1 1 1 1 1 1 1 1 1 1 1 1 1 4\n",
      " 1 1 3 1 1 1 1 1 1 2 1 1 1 1 1 1 1 1 1 1 1 1 1 1 1 1 1 1 1 1 1 1 1 1 1 1 1\n",
      " 1 1 1 1 1 1 1 1 1 1 1 1 1 1 1 1 1 1 1 1 1 1 1 1 1 1 1 1 1 2 1 1 1 1 1 1 1\n",
      " 1 1 1 1 1 1 1 2 1 1 1 1 1 1 1 1 1 1 1]\n",
      "(315,)\n",
      "66.66666666666666\n",
      "Hermiticity check passed!\n",
      "Symmetry checks passed!\n",
      "[1 1 1 1 1 1 2 1 1 1 1 1 1 1 1 1 1 1 1 1 1 1 1 1 1 1 1 1 1 1 1 2 1 1 1 1 2\n",
      " 1 1 1 1 1 1 1 1 1 1 2 2 2 1 1 1 2 1 1 1 1 1 1 2 1 1 1 1 1 2 1 1 1 1 1 1 1\n",
      " 1 1 1 2 2 2 1 3 1 4 1 2 1 1 1 1 1 1 1 1 2 1 1 2 1 1 1 1 1 1 1 1 1 1 1 1 1\n",
      " 1 1 1 1 1 1 1 1 1 1 1 1 3 1 1 1 2 1 1 1 1 1 1 1 1 1 1 2 1 2 1 1 1 1 1 1 1\n",
      " 1 1 1 1 1 1 1 1 1 1 1 1 1 1 1 1 1 1 1 1 1 1 1 1 1 1 1 1 1 1 1 1 1 1 1 1 1\n",
      " 1 1 1 1 1 1 1 1 1 1 1 1 1 1 1 1 1 1 1 1 1 1 1 1 1 1 1 1 2 1 1 1 1 1 1 1 1\n",
      " 1 1 1 1 1 1 1 1 1 1 1 1 1 1 1 1 1 1 1 1 1 1 1 1 1 1 1 1 1 1 1 1 1 1 1 1 1\n",
      " 1 1 2 1 1 1 1 1 1 1 1 1 1 1 1 1 1 1 1 1 1 1 1 1 1 1 1 1 1 2 1 1 1 1 1 1 1\n",
      " 1 1 1 1 1 1 1 1 1 1 1 1 1 1 1 1 1 1 1 1]\n",
      "(316,)\n",
      "77.77777777777777\n",
      "Hermiticity check passed!\n",
      "Symmetry checks passed!\n",
      "[1 1 1 1 1 1 2 1 1 2 1 1 1 1 1 1 1 1 1 1 1 1 1 1 1 1 1 1 1 2 1 2 1 1 1 1 1\n",
      " 1 1 1 1 1 1 1 1 1 1 1 1 1 2 2 2 1 1 1 1 1 1 2 1 1 1 1 1 1 2 1 1 1 1 1 1 1\n",
      " 1 2 1 1 1 1 1 2 1 1 2 1 3 1 1 1 2 1 1 1 1 1 1 1 1 1 1 1 1 1 1 2 1 1 1 1 1\n",
      " 1 1 1 1 1 1 1 1 1 2 1 1 1 1 1 1 1 1 1 1 1 1 2 1 1 1 1 1 1 1 1 1 1 2 2 1 1\n",
      " 1 1 1 1 1 1 1 1 1 1 1 2 1 1 2 1 1 1 1 1 1 1 1 1 1 1 1 1 1 1 1 1 1 1 1 1 1\n",
      " 1 1 1 1 1 1 1 1 1 1 1 1 1 1 1 1 1 1 1 1 1 1 1 1 1 1 1 1 1 1 1 1 1 2 1 1 1\n",
      " 1 1 1 2 1 1 1 2 2 1 1 1 1 1 1 1 1 1 1 1 1 1 1 1 2 1 1 1 1 1 1 1 1 1 1 1 3\n",
      " 1 1 1 1 1 1 1 1 1 1 1 1 1 1 1 1 1 1 1 1 1 1 1 1 1 1 1 1 1 1 1 1 1 1 1 1 1\n",
      " 1 1 1 1 1 1 1 1 1 1 1 1 1 1 1 1 1 2]\n",
      "(314,)\n",
      "88.88888888888889\n",
      "Hermiticity check passed!\n",
      "Symmetry checks passed!\n",
      "[1 1 1 1 1 1 1 1 1 1 1 2 1 1 1 1 1 1 1 2 1 1 1 1 1 2 1 1 1 1 1 1 1 2 1 1 1\n",
      " 1 1 1 1 1 1 1 1 1 1 1 1 1 1 1 2 1 1 1 1 1 1 1 1 2 1 1 1 1 1 1 1 1 1 1 1 1\n",
      " 1 1 1 1 1 1 1 3 1 1 2 3 1 1 2 1 2 1 1 1 1 2 1 1 1 1 1 1 1 1 1 1 1 1 1 1 1\n",
      " 1 1 1 1 1 1 1 1 1 1 1 1 1 1 1 1 1 1 1 1 1 1 1 1 1 1 1 1 1 1 2 1 1 1 1 1 1\n",
      " 1 1 1 1 1 1 1 1 1 1 1 1 1 1 1 1 1 1 1 1 1 2 1 1 1 1 1 1 1 1 1 1 1 1 1 1 1\n",
      " 1 1 1 1 1 1 1 1 1 1 1 1 1 1 1 1 1 1 1 1 1 1 1 1 1 1 1 1 1 1 1 1 1 1 1 1 1\n",
      " 1 1 1 1 1 2 1 1 1 1 1 2 1 1 1 1 1 1 1 1 1 1 1 1 1 1 1 1 1 1 1 1 1 1 1 1 1\n",
      " 1 1 1 1 1 1 1 1 1 1 1 1 1 1 1 1 1 1 1 1 1 1 1 1 1 1 1 1 1 1 1 1 1 1 1 2 1\n",
      " 1 1 1 1 1 1 1 1 1 1 1 1 1 1 1 1 1 1 1 1 1 1 1 1 1 1 1 1 1]\n",
      "(325,)\n",
      "100.0\n",
      "Hermiticity check passed!\n",
      "Symmetry checks passed!\n",
      "[1 1 1 1 1 1 1 1 1 1 1 1 1 1 1 1 1 1 1 1 1 1 2 1 1 1 1 1 1 1 1 1 1 1 1 1 1\n",
      " 1 1 2 2 1 1 1 1 1 1 1 1 2 2 1 1 1 1 1 1 1 1 1 1 1 1 1 1 2 1 1 1 1 1 1 1 1\n",
      " 1 1 1 1 1 1 1 1 1 1 3 2 2 1 1 3 1 1 1 1 1 2 1 1 1 1 1 1 1 1 1 1 1 1 1 1 1\n",
      " 1 1 1 1 1 1 1 1 1 1 1 1 1 1 1 1 1 1 1 1 1 1 1 1 1 2 1 1 1 1 1 1 1 1 2 2 1\n",
      " 1 1 1 1 1 1 1 1 1 1 1 1 1 1 1 1 1 1 1 1 1 1 1 1 1 1 1 1 1 1 1 1 1 1 1 1 1\n",
      " 1 1 1 1 1 1 1 1 1 1 1 1 1 1 1 1 1 1 1 1 1 1 1 1 1 1 1 1 1 1 1 1 1 1 1 1 1\n",
      " 1 1 1 1 2 2 1 1 1 1 1 1 2 1 1 1 1 1 1 1 1 1 1 1 1 1 1 1 1 1 1 1 1 1 1 1 1\n",
      " 1 1 1 1 1 1 1 1 1 1 1 1 1 1 1 1 1 1 1 1 1 1 1 1 1 1 1 1 1 1 1 1 1 1 1 1 1\n",
      " 1 1 1 1 1 1 1 1 1 1 1 1 1 1 1 1 1 1 1 1 1 1 1 1 1 2 1 1]\n",
      "(324,)\n"
     ]
    },
    {
     "data": {
      "text/plain": [
       "Text(0,0.5,'$E_n-E_0$')"
      ]
     },
     "execution_count": 140,
     "metadata": {},
     "output_type": "execute_result"
    },
    {
     "data": {
      "image/png": "[encoded data removed]",
      "text/plain": [
       "<Figure size 432x288 with 1 Axes>"
      ]
     },
     "metadata": {
      "needs_background": "light"
     },
     "output_type": "display_data"
    }
   ],
   "source": [
    "J = 1.0\n",
    "#delta = 0.5\n",
    "grid = 10\n",
    "delta = np.linspace(0,100,grid)\n",
    "Lx, Ly = 6, 2\n",
    "N = Lx*Ly\n",
    "\n",
    "s = np.arange(N)\n",
    "x = s%Lx\n",
    "y = s//Lx\n",
    "Tx = (x+1)%Lx + Lx*y\n",
    "Z   = -(s+1)\n",
    "P_x = x + Lx*(2-y-1)\n",
    "P_y = (Lx-x-1) + Lx*y\n",
    "\n",
    "#basis = spin_basis_general(N)\n",
    "basis = spin_basis_general(N,kxblock=(Tx,0),zblock=(Z,1))\n",
    "\n",
    "Jz = [[-J,i,Tx[i],s[i+Lx],Tx[i+Lx]] for i in range(Lx*(Ly-1))]\n",
    "En4 = np.zeros((basis.Ns,delta.size),dtype=np.float64)\n",
    "\n",
    "for j in range(grid):\n",
    "\n",
    "\tdelx = [[delta[j],i] for i in range(N)]\n",
    "\tstatic = [[\"zzzz\",Jz],[\"x\",delx]]\n",
    "\tprint(delta[j])\n",
    "\tH = hamiltonian(static,[],basis=basis)#,dtype=np.float64)\n",
    "\tE = H.eigvalsh()\n",
    "\tfor i in range(basis.Ns):\n",
    "\t\tEn4[i,j] = E[i]#-E[0]\n",
    "\n",
    "\tu, count = np.unique(En4[:,j], return_counts=True)\n",
    "\tprint(count)\n",
    "\tprint(count.shape)\n",
    "\n",
    "fig = plt.figure()\n",
    "ax = fig.add_subplot(1, 1, 1)\n",
    "for i in range(basis.Ns):\n",
    "\tax.plot(delta,En4[i])\n",
    "\n",
    "plt.xlabel(r\"$\\Delta$\")\n",
    "plt.ylabel(r\"$E_n-E_0$\")"
   ]
  },
  {
   "cell_type": "code",
   "execution_count": 141,
   "metadata": {
    "scrolled": true
   },
   "outputs": [
    {
     "name": "stdout",
     "output_type": "stream",
     "text": [
      "0.0\n",
      "Hermiticity check passed!\n",
      "Symmetry checks passed!\n",
      "[ 20 384 640 128]\n",
      "(4,)\n",
      "11.11111111111111\n",
      "Hermiticity check passed!\n",
      "Symmetry checks passed!\n",
      "[1 1 1 ... 1 1 1]\n",
      "(1067,)\n",
      "22.22222222222222\n",
      "Hermiticity check passed!\n",
      "Symmetry checks passed!\n",
      "[2 1 1 ... 1 1 1]\n",
      "(1080,)\n",
      "33.33333333333333\n",
      "Hermiticity check passed!\n",
      "Symmetry checks passed!\n",
      "[1 1 2 ... 1 1 1]\n",
      "(1087,)\n",
      "44.44444444444444\n",
      "Hermiticity check passed!\n",
      "Symmetry checks passed!\n",
      "[1 1 1 ... 1 1 1]\n",
      "(1082,)\n",
      "55.55555555555556\n",
      "Hermiticity check passed!\n",
      "Symmetry checks passed!\n",
      "[1 1 1 ... 1 1 1]\n",
      "(1085,)\n",
      "66.66666666666666\n",
      "Hermiticity check passed!\n",
      "Symmetry checks passed!\n",
      "[1 1 1 ... 1 1 1]\n",
      "(1074,)\n",
      "77.77777777777777\n",
      "Hermiticity check passed!\n",
      "Symmetry checks passed!\n",
      "[1 1 1 ... 2 1 1]\n",
      "(1075,)\n",
      "88.88888888888889\n",
      "Hermiticity check passed!\n",
      "Symmetry checks passed!\n",
      "[1 1 1 ... 1 1 1]\n",
      "(1097,)\n",
      "100.0\n",
      "Hermiticity check passed!\n",
      "Symmetry checks passed!\n",
      "[1 1 1 ... 1 1 1]\n",
      "(1105,)\n"
     ]
    },
    {
     "data": {
      "text/plain": [
       "Text(0,0.5,'$E_n-E_0$')"
      ]
     },
     "execution_count": 141,
     "metadata": {},
     "output_type": "execute_result"
    },
    {
     "data": {
      "image/png": "[encoded data removed]",
      "text/plain": [
       "<Figure size 432x288 with 1 Axes>"
      ]
     },
     "metadata": {
      "needs_background": "light"
     },
     "output_type": "display_data"
    }
   ],
   "source": [
    "J = 1.0\n",
    "#delta = 0.5\n",
    "grid = 10\n",
    "delta = np.linspace(0,100,grid)\n",
    "Lx, Ly = 7, 2\n",
    "N = Lx*Ly\n",
    "\n",
    "s = np.arange(N)\n",
    "x = s%Lx\n",
    "y = s//Lx\n",
    "Tx = (x+1)%Lx + Lx*y\n",
    "Z   = -(s+1)\n",
    "P_x = x + Lx*(2-y-1)\n",
    "P_y = (Lx-x-1) + Lx*y\n",
    "\n",
    "#basis = spin_basis_general(N)\n",
    "basis = spin_basis_general(N,kxblock=(Tx,0),zblock=(Z,1))\n",
    "\n",
    "Jz = [[-J,i,Tx[i],s[i+Lx],Tx[i+Lx]] for i in range(Lx*(Ly-1))]\n",
    "En5 = np.zeros((basis.Ns,delta.size),dtype=np.float64)\n",
    "\n",
    "for j in range(grid):\n",
    "\n",
    "\tdelx = [[delta[j],i] for i in range(N)]\n",
    "\tstatic = [[\"zzzz\",Jz],[\"x\",delx]]\n",
    "\tprint(delta[j])\n",
    "\tH = hamiltonian(static,[],basis=basis)#,dtype=np.float64)\n",
    "\tE = H.eigvalsh()\n",
    "\tfor i in range(basis.Ns):\n",
    "\t\tEn5[i,j] = E[i]#-E[0]\n",
    "\n",
    "\tu, count = np.unique(En5[:,j], return_counts=True)\n",
    "\tprint(count)\n",
    "\tprint(count.shape)\n",
    "\n",
    "fig = plt.figure()\n",
    "ax = fig.add_subplot(1, 1, 1)\n",
    "for i in range(basis.Ns):\n",
    "\tax.plot(delta,En5[i])\n",
    "\n",
    "plt.xlabel(r\"$\\Delta$\")\n",
    "plt.ylabel(r\"$E_n-E_0$\")"
   ]
  },
  {
   "cell_type": "code",
   "execution_count": 142,
   "metadata": {},
   "outputs": [],
   "source": [
    "e = np.zeros((6),dtype=np.float64)\n",
    "d = 9\n",
    "up = 1\n",
    "dw = 0\n",
    "e[0] = En[up,d]-En[dw,d]\n",
    "e[1] = En1[up,d]-En1[dw,d]\n",
    "e[2] = En2[up,d]-En2[dw,d]\n",
    "e[3] = En3[up,d]-En3[dw,d]\n",
    "e[4] = En4[1,d]-En4[0,d]\n",
    "e[5] = En5[1,d]-En5[0,d]"
   ]
  },
  {
   "cell_type": "code",
   "execution_count": 143,
   "metadata": {},
   "outputs": [
    {
     "data": {
      "text/plain": [
       "array([5.68434189e-14, 0.00000000e+00, 1.13686838e-13, 1.36424205e-12,\n",
       "       5.68434189e-13, 2.27373675e-13])"
      ]
     },
     "execution_count": 143,
     "metadata": {},
     "output_type": "execute_result"
    }
   ],
   "source": [
    "e"
   ]
  },
  {
   "cell_type": "code",
   "execution_count": 154,
   "metadata": {
    "scrolled": false
   },
   "outputs": [
    {
     "data": {
      "image/png": "[encoded data removed]",
      "text/plain": [
       "<Figure size 432x288 with 1 Axes>"
      ]
     },
     "metadata": {
      "needs_background": "light"
     },
     "output_type": "display_data"
    }
   ],
   "source": [
    "plt.plot(np.arange(5,8),e[3:6])\n",
    "plt.yscale('log')\n",
    "plt.xscale('log')"
   ]
  },
  {
   "cell_type": "code",
   "execution_count": null,
   "metadata": {},
   "outputs": [],
   "source": []
  }
 ],
 "metadata": {
  "kernelspec": {
   "display_name": "Python 3",
   "language": "python",
   "name": "python3"
  },
  "language_info": {
   "codemirror_mode": {
    "name": "ipython",
    "version": 3
   },
   "file_extension": ".py",
   "mimetype": "text/x-python",
   "name": "python",
   "nbconvert_exporter": "python",
   "pygments_lexer": "ipython3",
   "version": "3.7.3"
  }
 },
 "nbformat": 4,
 "nbformat_minor": 2
}
